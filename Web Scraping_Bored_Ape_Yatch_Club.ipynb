{
 "cells": [
  {
   "cell_type": "markdown",
   "id": "eefc6520",
   "metadata": {},
   "source": [
    "#### (1)  (No programming yet,) go to https://opensea.io/collection/boredapeyachtclub. and select all apes with “Solid gold” fur and sort them “Price high to low” .  Use the URL for the subsequent coding."
   ]
  },
  {
   "cell_type": "code",
   "execution_count": 647,
   "id": "9d74015c",
   "metadata": {},
   "outputs": [],
   "source": [
    "url1 = \"https://opensea.io/collection/boredapeyachtclub?search[sortAscending]=false&search[stringTraits][0][name]=Fur&search[stringTraits][0][values][0]=Solid%20Gold\""
   ]
  },
  {
   "cell_type": "markdown",
   "id": "006bf034",
   "metadata": {},
   "source": [
    "#### (2)  Using Python or Java, write code that uses Selenium to access the URL from (1), click on each of the top-8 most expensive Bored Apes, and store the resulting details page to disk, “bayc_[N].htm” (replace [N] with the ape number)."
   ]
  },
  {
   "cell_type": "code",
   "execution_count": 700,
   "id": "856b7c73",
   "metadata": {},
   "outputs": [],
   "source": [
    "from selenium import webdriver\n",
    "from selenium.webdriver.common.keys import Keys\n",
    "from selenium.webdriver.common.by import By\n",
    "import time\n",
    "import requests\n",
    "import re\n",
    "from bs4 import BeautifulSoup\n",
    "import pymongo\n",
    "import http.client, urllib.parse\n",
    "import json"
   ]
  },
  {
   "cell_type": "code",
   "execution_count": 649,
   "id": "4f996dd2",
   "metadata": {},
   "outputs": [
    {
     "name": "stderr",
     "output_type": "stream",
     "text": [
      "C:\\Users\\prade\\AppData\\Local\\Temp\\ipykernel_28808\\1703432143.py:1: DeprecationWarning: executable_path has been deprecated, please pass in a Service object\n",
      "  driver = webdriver.Chrome(executable_path='/Users/prade/Downloads/chromedriver.exe')\n"
     ]
    }
   ],
   "source": [
    "driver = webdriver.Chrome(executable_path='/Users/prade/Downloads/chromedriver.exe')\n",
    "driver.implicitly_wait(10)\n",
    "driver.set_script_timeout(120)\n",
    "driver.set_page_load_timeout(10)\n",
    "\n",
    "top_n_xpath=[]\n",
    "\n",
    "for i in range(1,9):\n",
    "    top_n_xpath.append(f\"/html/body/div[1]/div/main/div/div/div/div[5]/div/div[7]/div[3]/div[2]/div/div[{i}]\")\n",
    "\n",
    "for idx, i in enumerate(top_n_xpath):\n",
    "    driver.get(url1)\n",
    "    time.sleep(4) \n",
    "    top= driver.find_element(By.XPATH, value=i)\n",
    "    top.click()\n",
    "    time.sleep(3)\n",
    "    with open(f\"bayc_{idx+1}.htm\", \"w\", encoding='utf-8') as f:\n",
    "        f.write(driver.page_source)\n",
    "        time.sleep(3)\n",
    "        \n",
    "\n",
    "\n",
    "driver.quit()"
   ]
  },
  {
   "cell_type": "markdown",
   "id": "f0dbed17",
   "metadata": {},
   "source": [
    "#### (3)  Write code that goes through all 8 htm files downloaded in (2) and stores each ape’s name (its number) and all its attributes in a document inside a MongoDB collection called “bayc”."
   ]
  },
  {
   "cell_type": "code",
   "execution_count": 650,
   "id": "3fa17082",
   "metadata": {},
   "outputs": [],
   "source": [
    "client = pymongo.MongoClient(\"mongodb://localhost:27017/\")\n",
    "mydb = client[\"apes\"]\n",
    "mycol_ape = mydb[\"bayc\"]"
   ]
  },
  {
   "cell_type": "code",
   "execution_count": 651,
   "id": "3e8aef59",
   "metadata": {},
   "outputs": [
    {
     "data": {
      "text/plain": [
       "Collection(Database(MongoClient(host=['localhost:27017'], document_class=dict, tz_aware=False, connect=True), 'apes'), 'bayc.collection_name')"
      ]
     },
     "execution_count": 651,
     "metadata": {},
     "output_type": "execute_result"
    }
   ],
   "source": [
    "mycol_ape.collection_name"
   ]
  },
  {
   "cell_type": "code",
   "execution_count": 492,
   "id": "56886c95",
   "metadata": {},
   "outputs": [],
   "source": [
    "docn=[]\n",
    "\n",
    "for i in range(1,9):\n",
    "    with open(f\"bayc_{i}.htm\", \"r\", encoding='utf-8') as f:\n",
    "        docn.append(f.read())\n",
    "        \n",
    "\n",
    "## soup and ape numbers        \n",
    "soupn=[]\n",
    "ape_num=[]\n",
    "\n",
    "for idx, i in enumerate(docn):\n",
    "    soupn.append(BeautifulSoup(i, 'html.parser'))\n",
    "    ape_num.append(soupn[idx].find('h1').text)\n",
    "    \n",
    "## keys for attributes\n",
    "ape_keys = []\n",
    "for i in range(8):\n",
    "    ape_keys.append(soupn[i].find_all('div', {'class':'Property--type'}))\n",
    "    \n",
    "## values for attributes\n",
    "ape_values = []\n",
    "for i in range(8):\n",
    "    ape_values.append(soupn[i].find_all('div', {'class':'Property--value'}))\n",
    "    \n",
    "## rarity for attributes\n",
    "ape_rarity = []\n",
    "for i in range(8):\n",
    "    ape_rarity.append(soupn[i].find_all('div', {'class':'Property--rarity'}))\n",
    "\n",
    "            \n",
    "\n",
    "ape_dic_all = []\n",
    "\n",
    "for j in range(8):\n",
    "    ape_dic={'ape_name_num':ape_num[j]}\n",
    "    for i in range(len(ape_keys[j])):\n",
    "        key=ape_keys[j][i].text\n",
    "        value={'type':ape_values[j][i].text, 'rarity':ape_rarity[j][i].text}\n",
    "        ape_dic[key]=value\n",
    "    ape_dic_all.append(ape_dic)\n",
    "\n",
    "\n",
    "#ape_dic_all"
   ]
  },
  {
   "cell_type": "code",
   "execution_count": 8,
   "id": "0c973c42",
   "metadata": {},
   "outputs": [],
   "source": [
    "for i in range(8):\n",
    "    mycol_ape.insert_one(ape_dic_all[i])"
   ]
  },
  {
   "cell_type": "code",
   "execution_count": 757,
   "id": "fb38841e",
   "metadata": {},
   "outputs": [
    {
     "data": {
      "text/plain": [
       "<pymongo.results.DeleteResult at 0x21cd4429160>"
      ]
     },
     "execution_count": 757,
     "metadata": {},
     "output_type": "execute_result"
    }
   ],
   "source": [
    "#mycol_ape.delete_many({})"
   ]
  },
  {
   "cell_type": "code",
   "execution_count": 1,
   "id": "1b4f895c",
   "metadata": {},
   "outputs": [],
   "source": [
    "#list(mycol_ape.find({}))"
   ]
  },
  {
   "cell_type": "markdown",
   "id": "191091e8",
   "metadata": {},
   "source": [
    "#### (4)  Yellow Pages uses GET requests for its search.  Using plain Python or Java (no Selenium), write a program that searches on yellowpages.com for the top 30 “Pizzeria” in San Francisco (no need to verify that the shop is actually selling pizzas, just search for “Pizzeria”, top 30 shops according to YP's \"Default\" sorting).  Save the search result page to disk, “sf_pizzeria_search_page.htm”."
   ]
  },
  {
   "cell_type": "code",
   "execution_count": 652,
   "id": "cc66cdc7",
   "metadata": {},
   "outputs": [],
   "source": [
    "url1= \"https://www.yellowpages.com/search?search_terms=pizzeria&geo_location_terms=San+Francisco%2C+CA\"\n",
    "headers = {'User-Agent': 'Mozilla/5.0 (Windows NT 10.0; Win64; x64) AppleWebKit/537.36 (KHTML, like Gecko) Chrome/88.0.4324.96 Safari/537.36 Edg/88.0.705.56' }"
   ]
  },
  {
   "cell_type": "code",
   "execution_count": 653,
   "id": "0d4edd67",
   "metadata": {},
   "outputs": [
    {
     "data": {
      "text/plain": [
       "<Response [200]>"
      ]
     },
     "execution_count": 653,
     "metadata": {},
     "output_type": "execute_result"
    }
   ],
   "source": [
    "session1 = requests.session()\n",
    "response1 = session1.get(url1, headers=headers)\n",
    "response1"
   ]
  },
  {
   "cell_type": "code",
   "execution_count": 654,
   "id": "cd34b6ea",
   "metadata": {},
   "outputs": [],
   "source": [
    "cookies1 = response1.cookies.get_dict()"
   ]
  },
  {
   "cell_type": "code",
   "execution_count": 655,
   "id": "e0ec046f",
   "metadata": {},
   "outputs": [],
   "source": [
    "# Parse the response\n",
    "soup1 = BeautifulSoup(response1.text, 'html.parser')\n",
    "#soup1"
   ]
  },
  {
   "cell_type": "code",
   "execution_count": 656,
   "id": "136d9da7",
   "metadata": {},
   "outputs": [],
   "source": [
    "def saveString(html, filename=\"test.html\"):\n",
    "    try:\n",
    "        file = open(filename,\"w\", encoding=\"utf-8\")\n",
    "        file.write(str(html))\n",
    "        file.close()\n",
    "    except Exception as ex:\n",
    "        print('Error: ' + str(ex))\n",
    "\n",
    "\n",
    "def loadString(f=\"test.html\"):\n",
    "    try:\n",
    "        html = open(f, \"r\", encoding='utf-8').read()\n",
    "        return(html)\n",
    "    except Exception as ex:\n",
    "        print('Error: ' + str(ex))"
   ]
  },
  {
   "cell_type": "code",
   "execution_count": 657,
   "id": "3b2b28a1",
   "metadata": {},
   "outputs": [],
   "source": [
    "folder_to_Save = \"C:/Users/prade/OneDrive/Documents/UC Davis/3. Winter/422 Data Design and Representation/HWs/Individual_Project_2/\""
   ]
  },
  {
   "cell_type": "code",
   "execution_count": 658,
   "id": "30d21e31",
   "metadata": {},
   "outputs": [],
   "source": [
    "saveString(requests.get(url1, headers=headers).text, filename=folder_to_Save+\"sf_pizzeria_search_page.htm\")\n",
    "time.sleep(5)"
   ]
  },
  {
   "cell_type": "markdown",
   "id": "cad088f5",
   "metadata": {},
   "source": [
    "#### (5)  Using Python or Java, write code that opens the search result page saved in (4) and parses out all shop information (search rank, name, linked URL [this store’s YP URL], star rating If It Exists, number of reviews IIE, TripAdvisor rating IIE, number of TA reviews IIE, “$” signs IIE, years in business IIE, review IIE, and amenities IIE).  Please be sure to skip all “Ad” results."
   ]
  },
  {
   "cell_type": "code",
   "execution_count": 659,
   "id": "8132145a",
   "metadata": {},
   "outputs": [],
   "source": [
    "products = []\n",
    "\n",
    "page5=BeautifulSoup(loadString(\"sf_pizzeria_search_page.htm\"), 'html.parser')\n",
    "\n",
    "for idx,i in enumerate(page5.find_all('div' ,attrs={'class':'info'})):\n",
    "    try:\n",
    "        products.append({\"sr_name\": i.find('h2', attrs={'class':'n'}).text, \\\n",
    "                     \"sr\": re.search(r'^[^.]+',i.find('h2', attrs={'class':'n'}).text).group(0), \\\n",
    "                     \"name\": (i.find('h2', attrs={'class':'n'}).text).split('.', 1)[-1], \\\n",
    "                     \"url_links\": \"https://www.yellowpages.com\" + str(i.find('a')['href']), \\\n",
    "                     \"star_rating\": i.find('a', attrs={'class':'rating hasExtraRating'}).find('div', attrs={'class':'result-rating'})['class'][-1], \\\n",
    "                     \"num_reviews\": i.find('a', attrs={'class':'rating hasExtraRating'}).find('span', attrs={'class':'count'}).text, \\\n",
    "                     \"ta_rating\" : (i.find('div', attrs={'class':'ratings'})['data-tripadvisor'].split(\",\"))[0], \\\n",
    "                     \"ta_rating_num\" : (i.find('div', attrs={'class':'ratings'})['data-tripadvisor'].split(\",\"))[1], \\\n",
    "                     \"dollar_signs\" : i.find('div', attrs={'class':'price-range'}).text, \\\n",
    "                     \"yrs_in_bussiness\" : i.find('div', attrs={'class':'number'}).text, \\\n",
    "                     \"review\": i.find('p', attrs={'class':'body with-avatar'}).text, \\\n",
    "                     \"amenities\": i.find('div',attrs={'class':'amenities'}).text\n",
    "                        })\n",
    "    except:\n",
    "        products.append({\"sr_name\": i.find('h2', attrs={'class':'n'}).text, \\\n",
    "                     \"sr\": re.search(r'^[^.]+',i.find('h2', attrs={'class':'n'}).text).group(0), \\\n",
    "                     \"name\": (i.find('h2', attrs={'class':'n'}).text).split('.', 1)[-1], \\\n",
    "                     \"url_links\": \"https://www.yellowpages.com\" + str(i.find('a')['href'])\n",
    "                        })\n",
    "    \n",
    "    \n",
    "    \n",
    "\n",
    "#products"
   ]
  },
  {
   "cell_type": "code",
   "execution_count": 729,
   "id": "53815230",
   "metadata": {},
   "outputs": [],
   "source": [
    "products = products[1:31]"
   ]
  },
  {
   "cell_type": "code",
   "execution_count": 730,
   "id": "13ca1c93",
   "metadata": {},
   "outputs": [
    {
     "data": {
      "text/plain": [
       "30"
      ]
     },
     "execution_count": 730,
     "metadata": {},
     "output_type": "execute_result"
    }
   ],
   "source": [
    "len(products)"
   ]
  },
  {
   "cell_type": "code",
   "execution_count": 734,
   "id": "619ba0e6",
   "metadata": {},
   "outputs": [
    {
     "data": {
      "text/plain": [
       "{'a': 2}"
      ]
     },
     "execution_count": 734,
     "metadata": {},
     "output_type": "execute_result"
    }
   ],
   "source": [
    "dict_222 = {'a':2}\n",
    "dict_222"
   ]
  },
  {
   "cell_type": "code",
   "execution_count": 735,
   "id": "127e724d",
   "metadata": {},
   "outputs": [
    {
     "data": {
      "text/plain": [
       "{'a': 2, 'c': 3, 'd': 5}"
      ]
     },
     "execution_count": 735,
     "metadata": {},
     "output_type": "execute_result"
    }
   ],
   "source": [
    "dict_222.update({'c':3, 'd':5})\n",
    "dict_222"
   ]
  },
  {
   "cell_type": "code",
   "execution_count": 741,
   "id": "7cd5d0ec",
   "metadata": {},
   "outputs": [
    {
     "data": {
      "text/plain": [
       "{'a': 2, 'c': 3, 'd': 5}"
      ]
     },
     "execution_count": 741,
     "metadata": {},
     "output_type": "execute_result"
    }
   ],
   "source": [
    "dict_222"
   ]
  },
  {
   "cell_type": "code",
   "execution_count": 742,
   "id": "aae0d95a",
   "metadata": {},
   "outputs": [
    {
     "data": {
      "text/plain": [
       "{'a': 2, 'c': 3, 'd': 5}"
      ]
     },
     "execution_count": 742,
     "metadata": {},
     "output_type": "execute_result"
    }
   ],
   "source": [
    "dict_222.update({'c':3, 'd':5})\n",
    "dict_222"
   ]
  },
  {
   "cell_type": "markdown",
   "id": "f2f4b380",
   "metadata": {},
   "source": [
    "#### (6)  Copy your code from (5).  Modify the code to create a MongoDB collection called “sf_pizzerias” that stores all the extracted shop information, one document for each shop."
   ]
  },
  {
   "cell_type": "code",
   "execution_count": 709,
   "id": "3eb61746",
   "metadata": {},
   "outputs": [],
   "source": [
    "client = pymongo.MongoClient(\"mongodb://localhost:27017/\")\n",
    "mydb_pizzas = client[\"pizzas\"]\n",
    "mycol_pizzas = mydb_pizzas[\"sf_pizzerias\"]"
   ]
  },
  {
   "cell_type": "code",
   "execution_count": 710,
   "id": "0663c1d9",
   "metadata": {},
   "outputs": [
    {
     "data": {
      "text/plain": [
       "Collection(Database(MongoClient(host=['localhost:27017'], document_class=dict, tz_aware=False, connect=True), 'pizzas'), 'sf_pizzerias.collection_name')"
      ]
     },
     "execution_count": 710,
     "metadata": {},
     "output_type": "execute_result"
    }
   ],
   "source": [
    "mycol_pizzas.collection_name"
   ]
  },
  {
   "cell_type": "code",
   "execution_count": 711,
   "id": "32891bb1",
   "metadata": {},
   "outputs": [
    {
     "data": {
      "text/plain": [
       "<pymongo.results.DeleteResult at 0x21cbf665700>"
      ]
     },
     "execution_count": 711,
     "metadata": {},
     "output_type": "execute_result"
    }
   ],
   "source": [
    "mycol_ape.delete_many({})"
   ]
  },
  {
   "cell_type": "code",
   "execution_count": 712,
   "id": "c2fac94b",
   "metadata": {},
   "outputs": [],
   "source": [
    "for i in (products):\n",
    "    mycol_pizzas.insert_one(i)"
   ]
  },
  {
   "cell_type": "code",
   "execution_count": 714,
   "id": "4baea9bc",
   "metadata": {},
   "outputs": [],
   "source": [
    "#list(mycol_pizzas.find({}))"
   ]
  },
  {
   "cell_type": "markdown",
   "id": "909b36cd",
   "metadata": {},
   "source": [
    "#### (7)  Write code that reads all URLs stored in “sf_pizzerias” and download each shop page.  Store the page to disk, “sf_pizzerias_[SR].htm” (replace [SR] with the search rank)."
   ]
  },
  {
   "cell_type": "code",
   "execution_count": 661,
   "id": "746b4d81",
   "metadata": {},
   "outputs": [
    {
     "name": "stderr",
     "output_type": "stream",
     "text": [
      "C:\\Users\\prade\\AppData\\Local\\Temp\\ipykernel_28808\\3404424686.py:1: DeprecationWarning: executable_path has been deprecated, please pass in a Service object\n",
      "  driver = webdriver.Chrome(executable_path='/Users/prade/Downloads/chromedriver.exe')\n"
     ]
    },
    {
     "ename": "WebDriverException",
     "evalue": "Message: unknown error: cannot determine loading status\nfrom unknown error: cannot determine loading status\nfrom target frame detached\n  (Session info: chrome=110.0.5481.178)\nStacktrace:\nBacktrace:\n\t(No symbol) [0x00C44AD3]\n\t(No symbol) [0x00BD9211]\n\t(No symbol) [0x00ACD890]\n\t(No symbol) [0x00ABF1E8]\n\t(No symbol) [0x00ABDC38]\n\t(No symbol) [0x00ABE617]\n\t(No symbol) [0x00AD7888]\n\t(No symbol) [0x00AD03A7]\n\t(No symbol) [0x00ACFEDF]\n\t(No symbol) [0x00AD0653]\n\t(No symbol) [0x00AC8DC5]\n\t(No symbol) [0x00AC89DF]\n\t(No symbol) [0x00AD4886]\n\t(No symbol) [0x00AD80F6]\n\t(No symbol) [0x00ABE9C1]\n\t(No symbol) [0x00AD4447]\n\t(No symbol) [0x00B36D07]\n\t(No symbol) [0x00B1F936]\n\t(No symbol) [0x00AF4788]\n\t(No symbol) [0x00AF5C1D]\n\tGetHandleVerifier [0x00EB9342+2502274]\n\tGetHandleVerifier [0x00EE7959+2692249]\n\tGetHandleVerifier [0x00EEABDC+2705180]\n\tGetHandleVerifier [0x00CF3480+643008]\n\t(No symbol) [0x00BE208F]\n\t(No symbol) [0x00BE7AB8]\n\t(No symbol) [0x00BE7BA5]\n\t(No symbol) [0x00BF273B]\n\tBaseThreadInitThunk [0x76E16BD9+25]\n\tRtlGetFullPathName_UEx [0x77DE8FD2+1218]\n\tRtlGetFullPathName_UEx [0x77DE8F9D+1165]\n",
     "output_type": "error",
     "traceback": [
      "\u001b[1;31m---------------------------------------------------------------------------\u001b[0m",
      "\u001b[1;31mWebDriverException\u001b[0m                        Traceback (most recent call last)",
      "Input \u001b[1;32mIn [661]\u001b[0m, in \u001b[0;36m<cell line: 6>\u001b[1;34m()\u001b[0m\n\u001b[0;32m      6\u001b[0m \u001b[38;5;28;01mfor\u001b[39;00m i \u001b[38;5;129;01min\u001b[39;00m mycol_pizzas\u001b[38;5;241m.\u001b[39mfind():\n\u001b[0;32m      7\u001b[0m     url\u001b[38;5;241m=\u001b[39m(i[\u001b[38;5;124m'\u001b[39m\u001b[38;5;124murl_links\u001b[39m\u001b[38;5;124m'\u001b[39m])\n\u001b[1;32m----> 8\u001b[0m     \u001b[43mdriver\u001b[49m\u001b[38;5;241;43m.\u001b[39;49m\u001b[43mget\u001b[49m\u001b[43m(\u001b[49m\u001b[43murl\u001b[49m\u001b[43m)\u001b[49m\n\u001b[0;32m      9\u001b[0m     time\u001b[38;5;241m.\u001b[39msleep(\u001b[38;5;241m4\u001b[39m)\n\u001b[0;32m     10\u001b[0m     \u001b[38;5;28;01mwith\u001b[39;00m \u001b[38;5;28mopen\u001b[39m(\u001b[38;5;124mf\u001b[39m\u001b[38;5;124m\"\u001b[39m\u001b[38;5;124msf_pizzerias_\u001b[39m\u001b[38;5;124m\"\u001b[39m\u001b[38;5;241m+\u001b[39mi[\u001b[38;5;124m'\u001b[39m\u001b[38;5;124msr\u001b[39m\u001b[38;5;124m'\u001b[39m]\u001b[38;5;241m+\u001b[39m\u001b[38;5;124m\"\u001b[39m\u001b[38;5;124m.htm\u001b[39m\u001b[38;5;124m\"\u001b[39m, \u001b[38;5;124m\"\u001b[39m\u001b[38;5;124mw\u001b[39m\u001b[38;5;124m\"\u001b[39m, encoding\u001b[38;5;241m=\u001b[39m\u001b[38;5;124m'\u001b[39m\u001b[38;5;124mutf-8\u001b[39m\u001b[38;5;124m'\u001b[39m) \u001b[38;5;28;01mas\u001b[39;00m f:\n",
      "File \u001b[1;32m~\\anaconda3\\lib\\site-packages\\selenium\\webdriver\\remote\\webdriver.py:449\u001b[0m, in \u001b[0;36mWebDriver.get\u001b[1;34m(self, url)\u001b[0m\n\u001b[0;32m    447\u001b[0m \u001b[38;5;28;01mdef\u001b[39;00m \u001b[38;5;21mget\u001b[39m(\u001b[38;5;28mself\u001b[39m, url: \u001b[38;5;28mstr\u001b[39m) \u001b[38;5;241m-\u001b[39m\u001b[38;5;241m>\u001b[39m \u001b[38;5;28;01mNone\u001b[39;00m:\n\u001b[0;32m    448\u001b[0m     \u001b[38;5;124;03m\"\"\"Loads a web page in the current browser session.\"\"\"\u001b[39;00m\n\u001b[1;32m--> 449\u001b[0m     \u001b[38;5;28;43mself\u001b[39;49m\u001b[38;5;241;43m.\u001b[39;49m\u001b[43mexecute\u001b[49m\u001b[43m(\u001b[49m\u001b[43mCommand\u001b[49m\u001b[38;5;241;43m.\u001b[39;49m\u001b[43mGET\u001b[49m\u001b[43m,\u001b[49m\u001b[43m \u001b[49m\u001b[43m{\u001b[49m\u001b[38;5;124;43m\"\u001b[39;49m\u001b[38;5;124;43murl\u001b[39;49m\u001b[38;5;124;43m\"\u001b[39;49m\u001b[43m:\u001b[49m\u001b[43m \u001b[49m\u001b[43murl\u001b[49m\u001b[43m}\u001b[49m\u001b[43m)\u001b[49m\n",
      "File \u001b[1;32m~\\anaconda3\\lib\\site-packages\\selenium\\webdriver\\remote\\webdriver.py:440\u001b[0m, in \u001b[0;36mWebDriver.execute\u001b[1;34m(self, driver_command, params)\u001b[0m\n\u001b[0;32m    438\u001b[0m response \u001b[38;5;241m=\u001b[39m \u001b[38;5;28mself\u001b[39m\u001b[38;5;241m.\u001b[39mcommand_executor\u001b[38;5;241m.\u001b[39mexecute(driver_command, params)\n\u001b[0;32m    439\u001b[0m \u001b[38;5;28;01mif\u001b[39;00m response:\n\u001b[1;32m--> 440\u001b[0m     \u001b[38;5;28;43mself\u001b[39;49m\u001b[38;5;241;43m.\u001b[39;49m\u001b[43merror_handler\u001b[49m\u001b[38;5;241;43m.\u001b[39;49m\u001b[43mcheck_response\u001b[49m\u001b[43m(\u001b[49m\u001b[43mresponse\u001b[49m\u001b[43m)\u001b[49m\n\u001b[0;32m    441\u001b[0m     response[\u001b[38;5;124m\"\u001b[39m\u001b[38;5;124mvalue\u001b[39m\u001b[38;5;124m\"\u001b[39m] \u001b[38;5;241m=\u001b[39m \u001b[38;5;28mself\u001b[39m\u001b[38;5;241m.\u001b[39m_unwrap_value(response\u001b[38;5;241m.\u001b[39mget(\u001b[38;5;124m\"\u001b[39m\u001b[38;5;124mvalue\u001b[39m\u001b[38;5;124m\"\u001b[39m, \u001b[38;5;28;01mNone\u001b[39;00m))\n\u001b[0;32m    442\u001b[0m     \u001b[38;5;28;01mreturn\u001b[39;00m response\n",
      "File \u001b[1;32m~\\anaconda3\\lib\\site-packages\\selenium\\webdriver\\remote\\errorhandler.py:245\u001b[0m, in \u001b[0;36mErrorHandler.check_response\u001b[1;34m(self, response)\u001b[0m\n\u001b[0;32m    243\u001b[0m         alert_text \u001b[38;5;241m=\u001b[39m value[\u001b[38;5;124m\"\u001b[39m\u001b[38;5;124malert\u001b[39m\u001b[38;5;124m\"\u001b[39m]\u001b[38;5;241m.\u001b[39mget(\u001b[38;5;124m\"\u001b[39m\u001b[38;5;124mtext\u001b[39m\u001b[38;5;124m\"\u001b[39m)\n\u001b[0;32m    244\u001b[0m     \u001b[38;5;28;01mraise\u001b[39;00m exception_class(message, screen, stacktrace, alert_text)  \u001b[38;5;66;03m# type: ignore[call-arg]  # mypy is not smart enough here\u001b[39;00m\n\u001b[1;32m--> 245\u001b[0m \u001b[38;5;28;01mraise\u001b[39;00m exception_class(message, screen, stacktrace)\n",
      "\u001b[1;31mWebDriverException\u001b[0m: Message: unknown error: cannot determine loading status\nfrom unknown error: cannot determine loading status\nfrom target frame detached\n  (Session info: chrome=110.0.5481.178)\nStacktrace:\nBacktrace:\n\t(No symbol) [0x00C44AD3]\n\t(No symbol) [0x00BD9211]\n\t(No symbol) [0x00ACD890]\n\t(No symbol) [0x00ABF1E8]\n\t(No symbol) [0x00ABDC38]\n\t(No symbol) [0x00ABE617]\n\t(No symbol) [0x00AD7888]\n\t(No symbol) [0x00AD03A7]\n\t(No symbol) [0x00ACFEDF]\n\t(No symbol) [0x00AD0653]\n\t(No symbol) [0x00AC8DC5]\n\t(No symbol) [0x00AC89DF]\n\t(No symbol) [0x00AD4886]\n\t(No symbol) [0x00AD80F6]\n\t(No symbol) [0x00ABE9C1]\n\t(No symbol) [0x00AD4447]\n\t(No symbol) [0x00B36D07]\n\t(No symbol) [0x00B1F936]\n\t(No symbol) [0x00AF4788]\n\t(No symbol) [0x00AF5C1D]\n\tGetHandleVerifier [0x00EB9342+2502274]\n\tGetHandleVerifier [0x00EE7959+2692249]\n\tGetHandleVerifier [0x00EEABDC+2705180]\n\tGetHandleVerifier [0x00CF3480+643008]\n\t(No symbol) [0x00BE208F]\n\t(No symbol) [0x00BE7AB8]\n\t(No symbol) [0x00BE7BA5]\n\t(No symbol) [0x00BF273B]\n\tBaseThreadInitThunk [0x76E16BD9+25]\n\tRtlGetFullPathName_UEx [0x77DE8FD2+1218]\n\tRtlGetFullPathName_UEx [0x77DE8F9D+1165]\n"
     ]
    }
   ],
   "source": [
    "driver = webdriver.Chrome(executable_path='/Users/prade/Downloads/chromedriver.exe')\n",
    "driver.implicitly_wait(10)\n",
    "driver.set_script_timeout(120)\n",
    "driver.set_page_load_timeout(10)\n",
    "\n",
    "for i in mycol_pizzas.find():\n",
    "    url=(i['url_links'])\n",
    "    driver.get(url)\n",
    "    time.sleep(4)\n",
    "    with open(f\"sf_pizzerias_\"+i['sr']+\".htm\", \"w\", encoding='utf-8') as f:\n",
    "        f.write(driver.page_source)\n",
    "        time.sleep(3)\n",
    "\n",
    "driver.quit()\n"
   ]
  },
  {
   "cell_type": "markdown",
   "id": "86860941",
   "metadata": {},
   "source": [
    "#### (8)  Write code that reads the 30 shop pages saved in (7) and parses each shop’s address, phone number, and website."
   ]
  },
  {
   "cell_type": "code",
   "execution_count": 739,
   "id": "f34bb7e5",
   "metadata": {},
   "outputs": [
    {
     "name": "stdout",
     "output_type": "stream",
     "text": [
      "['659 Valencia St, San Francisco, CA 94110', '5006 Mission St, San Francisco, CA 94112', '1042 Kearny St, San Francisco, CA 94133', '2800 Leavenworth St, Ste 50, San Francisco, CA 94133</p></section', '3881 24th St, San Francisco, CA 94114', '1570 Stockton St, San Francisco, CA 94133', '822 Irving St, San Francisco, CA 94122', '211 23rd Ave, San Francisco, CA 94121', '1737 Haight St, San Francisco, CA 94117', '420 Saint Francis Blvd, San Francisco, CA 94127</p></section', '3911 Alemany Blvd, San Francisco, CA 94132', '641 Vallejo St, San Francisco, CA 94133', '955 Geneva Ave, San Francisco, CA 94112', '2826 Jones St, San Francisco, CA 94133', '1052 Folsom St, San Francisco, CA 94103', '1980 Union St, San Francisco, CA 94123', '69 Cambon Dr, San Francisco, CA 94132', '279 Columbus Ave, San Francisco, CA 94133', '826 Folsom St, San Francisco, CA 94107', '1331 9th Ave, San Francisco, CA 94122', '2660 San Bruno Ave, San Francisco, CA 94134', '609 Vallejo St, San Francisco, CA 94133', '4077 18th St, San Francisco, CA 94114', '800 Stanyan St, San Francisco, CA 94117', '3157 Fillmore St, San Francisco, CA 94123', '3116 Noriega St, San Francisco, CA 94122', '535 Valencia St, San Francisco, CA 94110', '318 Kearny St, San Francisco, CA 94108</p></section', '6001 California st, san francisco, CA 94121</p></section', '2164 Mission St, San Francisco, CA 94110</p></section']\n"
     ]
    }
   ],
   "source": [
    "textpages=[]\n",
    "address=[]\n",
    "phone=[]\n",
    "website=[]\n",
    "\n",
    "\n",
    "for i in range(1,31):\n",
    "    try:\n",
    "        loadString(f\"sf_pizzerias_\"+str(i)+\".htm\")\n",
    "        page=BeautifulSoup(loadString(f\"sf_pizzerias_\"+str(i)+\".htm\"))\n",
    "        phone.append(page.find('section',attrs={'id':'details-card'}).find('p', attrs={'class':'phone'}).text)\n",
    "        website.append(page.find('section',attrs={'id':'details-card'}).find('p', attrs={'class':'website'}).text)\n",
    "        add=str(page.find('section',attrs={'id':'details-card'}))\n",
    "        idx1= add.find('Address: </span>')\n",
    "        idx2=add.find('</p><p class')\n",
    "        address.append(add[idx1+16:idx2])\n",
    "        \n",
    "    except:\n",
    "        loadString(f\"sf_pizzerias_\"+str(i)+\".htm\")\n",
    "        page=BeautifulSoup(loadString(f\"sf_pizzerias_\"+str(i)+\".htm\"))\n",
    "        phone.append(page.find('section',attrs={'id':'details-card'}).find('p', attrs={'class':'phone'}).text)\n",
    "        website.append(\"NA\")\n",
    "        add=str(page.find('section',attrs={'id':'details-card'}))\n",
    "        idx1= add.find('Address: </span>')\n",
    "        idx2=add.find('</p><p class')\n",
    "        address.append(add[idx1+16:idx2])\n",
    "    \n",
    "print(address)\n",
    "#print(phone)\n",
    "#print(website)"
   ]
  },
  {
   "cell_type": "code",
   "execution_count": 740,
   "id": "24897d95",
   "metadata": {},
   "outputs": [
    {
     "data": {
      "text/plain": [
       "30"
      ]
     },
     "execution_count": 740,
     "metadata": {},
     "output_type": "execute_result"
    }
   ],
   "source": [
    "len(website)"
   ]
  },
  {
   "cell_type": "markdown",
   "id": "5804112e",
   "metadata": {},
   "source": [
    "#### (9)  Sign up for a free account with https://positionstack.com/Links to an external site.  Copy your code from (8).  Modify the code to query each shop address’ geolocation (long, lat).  Update each shop document on the MongoDB collection “sf_pizzerias” to contain the shop’s address, phone number, website, and geolocation."
   ]
  },
  {
   "cell_type": "code",
   "execution_count": 782,
   "id": "015d9e2a",
   "metadata": {},
   "outputs": [],
   "source": [
    "conn = http.client.HTTPConnection('api.positionstack.com')"
   ]
  },
  {
   "cell_type": "code",
   "execution_count": 781,
   "id": "48ff72e6",
   "metadata": {},
   "outputs": [
    {
     "ename": "RemoteDisconnected",
     "evalue": "Remote end closed connection without response",
     "output_type": "error",
     "traceback": [
      "\u001b[1;31m---------------------------------------------------------------------------\u001b[0m",
      "\u001b[1;31mRemoteDisconnected\u001b[0m                        Traceback (most recent call last)",
      "Input \u001b[1;32mIn [781]\u001b[0m, in \u001b[0;36m<cell line: 2>\u001b[1;34m()\u001b[0m\n\u001b[0;32m      3\u001b[0m params \u001b[38;5;241m=\u001b[39m urllib\u001b[38;5;241m.\u001b[39mparse\u001b[38;5;241m.\u001b[39murlencode({\n\u001b[0;32m      4\u001b[0m \u001b[38;5;124m'\u001b[39m\u001b[38;5;124maccess_key\u001b[39m\u001b[38;5;124m'\u001b[39m: \u001b[38;5;124m'\u001b[39m\u001b[38;5;124md2ad8c8f81abf74631f213d89413309e\u001b[39m\u001b[38;5;124m'\u001b[39m,\n\u001b[0;32m      5\u001b[0m \u001b[38;5;124m'\u001b[39m\u001b[38;5;124mquery\u001b[39m\u001b[38;5;124m'\u001b[39m: i,\n\u001b[0;32m      6\u001b[0m \u001b[38;5;124m'\u001b[39m\u001b[38;5;124mregion\u001b[39m\u001b[38;5;124m'\u001b[39m: i,\n\u001b[0;32m      7\u001b[0m \u001b[38;5;124m'\u001b[39m\u001b[38;5;124mlimit\u001b[39m\u001b[38;5;124m'\u001b[39m: \u001b[38;5;241m1\u001b[39m,\n\u001b[0;32m      8\u001b[0m })\n\u001b[0;32m      9\u001b[0m conn\u001b[38;5;241m.\u001b[39mrequest(\u001b[38;5;124m'\u001b[39m\u001b[38;5;124mGET\u001b[39m\u001b[38;5;124m'\u001b[39m, \u001b[38;5;124m'\u001b[39m\u001b[38;5;124m/v1/forward?\u001b[39m\u001b[38;5;132;01m{}\u001b[39;00m\u001b[38;5;124m'\u001b[39m\u001b[38;5;241m.\u001b[39mformat(params))\n\u001b[1;32m---> 10\u001b[0m res \u001b[38;5;241m=\u001b[39m \u001b[43mconn\u001b[49m\u001b[38;5;241;43m.\u001b[39;49m\u001b[43mgetresponse\u001b[49m\u001b[43m(\u001b[49m\u001b[43m)\u001b[49m\n\u001b[0;32m     11\u001b[0m lat_long_data\u001b[38;5;241m.\u001b[39mappend(res\u001b[38;5;241m.\u001b[39mread())\n",
      "File \u001b[1;32m~\\anaconda3\\lib\\http\\client.py:1377\u001b[0m, in \u001b[0;36mHTTPConnection.getresponse\u001b[1;34m(self)\u001b[0m\n\u001b[0;32m   1375\u001b[0m \u001b[38;5;28;01mtry\u001b[39;00m:\n\u001b[0;32m   1376\u001b[0m     \u001b[38;5;28;01mtry\u001b[39;00m:\n\u001b[1;32m-> 1377\u001b[0m         \u001b[43mresponse\u001b[49m\u001b[38;5;241;43m.\u001b[39;49m\u001b[43mbegin\u001b[49m\u001b[43m(\u001b[49m\u001b[43m)\u001b[49m\n\u001b[0;32m   1378\u001b[0m     \u001b[38;5;28;01mexcept\u001b[39;00m \u001b[38;5;167;01mConnectionError\u001b[39;00m:\n\u001b[0;32m   1379\u001b[0m         \u001b[38;5;28mself\u001b[39m\u001b[38;5;241m.\u001b[39mclose()\n",
      "File \u001b[1;32m~\\anaconda3\\lib\\http\\client.py:320\u001b[0m, in \u001b[0;36mHTTPResponse.begin\u001b[1;34m(self)\u001b[0m\n\u001b[0;32m    318\u001b[0m \u001b[38;5;66;03m# read until we get a non-100 response\u001b[39;00m\n\u001b[0;32m    319\u001b[0m \u001b[38;5;28;01mwhile\u001b[39;00m \u001b[38;5;28;01mTrue\u001b[39;00m:\n\u001b[1;32m--> 320\u001b[0m     version, status, reason \u001b[38;5;241m=\u001b[39m \u001b[38;5;28;43mself\u001b[39;49m\u001b[38;5;241;43m.\u001b[39;49m\u001b[43m_read_status\u001b[49m\u001b[43m(\u001b[49m\u001b[43m)\u001b[49m\n\u001b[0;32m    321\u001b[0m     \u001b[38;5;28;01mif\u001b[39;00m status \u001b[38;5;241m!=\u001b[39m CONTINUE:\n\u001b[0;32m    322\u001b[0m         \u001b[38;5;28;01mbreak\u001b[39;00m\n",
      "File \u001b[1;32m~\\anaconda3\\lib\\http\\client.py:289\u001b[0m, in \u001b[0;36mHTTPResponse._read_status\u001b[1;34m(self)\u001b[0m\n\u001b[0;32m    285\u001b[0m     \u001b[38;5;28mprint\u001b[39m(\u001b[38;5;124m\"\u001b[39m\u001b[38;5;124mreply:\u001b[39m\u001b[38;5;124m\"\u001b[39m, \u001b[38;5;28mrepr\u001b[39m(line))\n\u001b[0;32m    286\u001b[0m \u001b[38;5;28;01mif\u001b[39;00m \u001b[38;5;129;01mnot\u001b[39;00m line:\n\u001b[0;32m    287\u001b[0m     \u001b[38;5;66;03m# Presumably, the server closed the connection before\u001b[39;00m\n\u001b[0;32m    288\u001b[0m     \u001b[38;5;66;03m# sending a valid response.\u001b[39;00m\n\u001b[1;32m--> 289\u001b[0m     \u001b[38;5;28;01mraise\u001b[39;00m RemoteDisconnected(\u001b[38;5;124m\"\u001b[39m\u001b[38;5;124mRemote end closed connection without\u001b[39m\u001b[38;5;124m\"\u001b[39m\n\u001b[0;32m    290\u001b[0m                              \u001b[38;5;124m\"\u001b[39m\u001b[38;5;124m response\u001b[39m\u001b[38;5;124m\"\u001b[39m)\n\u001b[0;32m    291\u001b[0m \u001b[38;5;28;01mtry\u001b[39;00m:\n\u001b[0;32m    292\u001b[0m     version, status, reason \u001b[38;5;241m=\u001b[39m line\u001b[38;5;241m.\u001b[39msplit(\u001b[38;5;28;01mNone\u001b[39;00m, \u001b[38;5;241m2\u001b[39m)\n",
      "\u001b[1;31mRemoteDisconnected\u001b[0m: Remote end closed connection without response"
     ]
    }
   ],
   "source": [
    "lat_long_data =[]\n",
    "for i in address:\n",
    "    params = urllib.parse.urlencode({\n",
    "    'access_key': 'd2ad8c8f81abf74631f213d89413309e',\n",
    "    'query': i,\n",
    "    'region': i,\n",
    "    'limit': 1,\n",
    "    })\n",
    "    conn.request('GET', '/v1/forward?{}'.format(params))\n",
    "    res = conn.getresponse()\n",
    "    lat_long_data.append(res.read())"
   ]
  },
  {
   "cell_type": "code",
   "execution_count": 780,
   "id": "d8203223",
   "metadata": {},
   "outputs": [],
   "source": [
    "#lat_long_data"
   ]
  },
  {
   "cell_type": "code",
   "execution_count": 776,
   "id": "aa5f84f9",
   "metadata": {},
   "outputs": [
    {
     "data": {
      "text/plain": [
       "37.762347"
      ]
     },
     "execution_count": 776,
     "metadata": {},
     "output_type": "execute_result"
    }
   ],
   "source": [
    "#print(lat_long_data)\n",
    "test=json.loads(lat_long_data[0])\n",
    "test['data'][0]['latitude']"
   ]
  },
  {
   "cell_type": "code",
   "execution_count": 777,
   "id": "dee4bb66",
   "metadata": {},
   "outputs": [],
   "source": [
    "geo_lat=[]\n",
    "geo_long=[]\n",
    "\n",
    "for i in lat_long_data:\n",
    "    test=json.loads(i)\n",
    "    geo_lat.append(test['data'][0]['latitude'])\n",
    "    geo_long.append(test['data'][0]['longitude'])\n",
    "    "
   ]
  },
  {
   "cell_type": "code",
   "execution_count": 778,
   "id": "54e87185",
   "metadata": {},
   "outputs": [
    {
     "name": "stdout",
     "output_type": "stream",
     "text": [
      "30\n",
      "30\n"
     ]
    }
   ],
   "source": [
    "print(len(geo_lat))\n",
    "print(len(geo_long))"
   ]
  },
  {
   "cell_type": "code",
   "execution_count": 718,
   "id": "41cf7f12",
   "metadata": {},
   "outputs": [
    {
     "data": {
      "text/plain": [
       "{'_id': ObjectId('63ff1b3f7c91621e8c4bba20'),\n",
       " 'sr_name': \"Little Joe's Pizza\",\n",
       " 'sr': \"Little Joe's Pizza\",\n",
       " 'name': \"Little Joe's Pizza\",\n",
       " 'url_links': 'https://www.yellowpages.com/san-francisco-ca/mip/little-joes-pizza-461713663?lid=1002063125113'}"
      ]
     },
     "execution_count": 718,
     "metadata": {},
     "output_type": "execute_result"
    }
   ],
   "source": [
    "mycol_pizzas.find_one({})"
   ]
  },
  {
   "cell_type": "code",
   "execution_count": 743,
   "id": "d4c6c0e4",
   "metadata": {},
   "outputs": [],
   "source": [
    "for idx,i in enumerate(products):\n",
    "    i.update({'address':address[idx], 'phone' : phone[idx], 'website': website[idx],\\\n",
    "              'latitude' : geo_lat[idx] , 'longitude' : geo_long[idx]})"
   ]
  },
  {
   "cell_type": "code",
   "execution_count": 750,
   "id": "701328fc",
   "metadata": {},
   "outputs": [
    {
     "data": {
      "text/plain": [
       "{'sr_name': '29. Firehouse Pizzeria',\n",
       " 'sr': '29',\n",
       " 'name': ' Firehouse Pizzeria',\n",
       " 'url_links': 'https://www.yellowpages.com/san-francisco-ca/mip/firehouse-pizzeria-480175297',\n",
       " '_id': ObjectId('6401464b7c91621e8c4bba61'),\n",
       " 'address': '6001 California st, san francisco, CA 94121</p></section',\n",
       " 'phone': 'Phone:  (415) 431-8800',\n",
       " 'website': 'NA',\n",
       " 'latitude': 37.783677,\n",
       " 'longitude': -122.481915}"
      ]
     },
     "execution_count": 750,
     "metadata": {},
     "output_type": "execute_result"
    }
   ],
   "source": [
    "products[28]"
   ]
  },
  {
   "cell_type": "code",
   "execution_count": 759,
   "id": "04a4373f",
   "metadata": {},
   "outputs": [
    {
     "data": {
      "text/plain": [
       "<pymongo.results.DeleteResult at 0x21ccf938f40>"
      ]
     },
     "execution_count": 759,
     "metadata": {},
     "output_type": "execute_result"
    }
   ],
   "source": [
    "#mycol_pizzas.delete_many({})"
   ]
  },
  {
   "cell_type": "code",
   "execution_count": 754,
   "id": "d1d5b8cb",
   "metadata": {},
   "outputs": [],
   "source": [
    "for i in (products):\n",
    "    mycol_pizzas.insert_one(i)"
   ]
  },
  {
   "cell_type": "code",
   "execution_count": 779,
   "id": "64a4bfeb",
   "metadata": {},
   "outputs": [
    {
     "data": {
      "text/plain": [
       "[{'_id': ObjectId('640171e76332be63ff92f3ca'),\n",
       "  'sr_name': '1. Pizzeria',\n",
       "  'sr': '1',\n",
       "  'name': ' Pizzeria',\n",
       "  'url_links': 'https://www.yellowpages.com/san-francisco-ca/mip/pizzeria-5920489',\n",
       "  'address': '659 Valencia St, San Francisco, CA 94110',\n",
       "  'geo_lat': 37.762347,\n",
       "  'geo_long': -122.421423,\n",
       "  'phone': 'Phone:  (415) 701-7492',\n",
       "  'website': 'Website: https://www.facebook.com/yellowmotopizzeria'},\n",
       " {'_id': ObjectId('640171e76332be63ff92f3cb'),\n",
       "  'sr_name': \"2. Little Joe's Pizza\",\n",
       "  'sr': '2',\n",
       "  'name': \" Little Joe's Pizza\",\n",
       "  'url_links': 'https://www.yellowpages.com/san-francisco-ca/mip/little-joes-pizza-461713663?lid=1002063125113',\n",
       "  'address': '5006 Mission St, San Francisco, CA 94112',\n",
       "  'geo_lat': 37.718487,\n",
       "  'geo_long': -122.439832,\n",
       "  'phone': 'Phone:  (415) 333-3684',\n",
       "  'website': 'Website: http://www.littlejoespizzeria.com'},\n",
       " {'_id': ObjectId('640171e76332be63ff92f3cc'),\n",
       "  'sr_name': '3. Tommaso Ristorante Italiano',\n",
       "  'sr': '3',\n",
       "  'name': ' Tommaso Ristorante Italiano',\n",
       "  'url_links': 'https://www.yellowpages.com/san-francisco-ca/mip/tommaso-ristorante-italiano-466204150?lid=1002102703144',\n",
       "  'address': '1042 Kearny St, San Francisco, CA 94133',\n",
       "  'geo_lat': 37.797793,\n",
       "  'geo_long': -122.405224,\n",
       "  'phone': 'Phone:  (415) 398-9696',\n",
       "  'website': 'Website: https://www.tommasos.com'},\n",
       " {'_id': ObjectId('640171e76332be63ff92f3cd'),\n",
       "  'sr_name': \"4. Fisherman's Pizzeria\",\n",
       "  'sr': '4',\n",
       "  'name': \" Fisherman's Pizzeria\",\n",
       "  'url_links': 'https://www.yellowpages.com/san-francisco-ca/mip/fishermans-pizzeria-1262499?lid=1002097800830',\n",
       "  'address': '2800 Leavenworth St, Ste 50, San Francisco, CA 94133</p></section',\n",
       "  'geo_lat': 37.807389,\n",
       "  'geo_long': -122.418537,\n",
       "  'phone': 'Phone:  (415) 928-2998',\n",
       "  'website': 'NA'},\n",
       " {'_id': ObjectId('640171e76332be63ff92f3ce'),\n",
       "  'sr_name': '5. Haystack Pizza',\n",
       "  'sr': '5',\n",
       "  'name': ' Haystack Pizza',\n",
       "  'url_links': 'https://www.yellowpages.com/san-francisco-ca/mip/haystack-pizza-461721439?lid=1001539058231',\n",
       "  'address': '3881 24th St, San Francisco, CA 94114',\n",
       "  'geo_lat': 37.751403,\n",
       "  'geo_long': -122.429201,\n",
       "  'phone': 'Phone:  (415) 647-1929',\n",
       "  'website': 'Website: http://haystackpizza.com'},\n",
       " {'_id': ObjectId('640171e76332be63ff92f3cf'),\n",
       "  'sr_name': \"6. Tony's Pizza Napoletana\",\n",
       "  'sr': '6',\n",
       "  'name': \" Tony's Pizza Napoletana\",\n",
       "  'url_links': 'https://www.yellowpages.com/san-francisco-ca/mip/tonys-pizza-napoletana-17514197',\n",
       "  'star_rating': 'five',\n",
       "  'num_reviews': '(1)',\n",
       "  'ta_rating': '{\"rating\":\"4.5\"',\n",
       "  'ta_rating_num': '\"count\":\"2662\"}',\n",
       "  'dollar_signs': '$$$',\n",
       "  'yrs_in_bussiness': '21',\n",
       "  'review': 'My BF and I stopped in to get a slice of pizza, and ended up getting a whole pizza that was perfectly delicious.  We were served bread and a garlic…',\n",
       "  'amenities': 'Amenities:Offers outdoor seatingServes alcohol',\n",
       "  'address': '1570 Stockton St, San Francisco, CA 94133',\n",
       "  'geo_lat': 37.800335,\n",
       "  'geo_long': -122.409028,\n",
       "  'phone': 'Phone:  (415) 835-9888',\n",
       "  'website': 'Website: http://tonyspizzanapoletana.com'},\n",
       " {'_id': ObjectId('640171e76332be63ff92f3d0'),\n",
       "  'sr_name': \"7. Patxi's Chicago Pizza\",\n",
       "  'sr': '7',\n",
       "  'name': \" Patxi's Chicago Pizza\",\n",
       "  'url_links': 'https://www.yellowpages.com/san-francisco-ca/mip/patxis-chicago-pizza-465459097',\n",
       "  'address': '822 Irving St, San Francisco, CA 94122',\n",
       "  'geo_lat': 37.764152,\n",
       "  'geo_long': -122.466809,\n",
       "  'phone': 'Phone:  (415) 759-9000',\n",
       "  'website': 'Website: https://www.patxispizza.com'},\n",
       " {'_id': ObjectId('640171e76332be63ff92f3d1'),\n",
       "  'sr_name': '8. Pizzetta 211',\n",
       "  'sr': '8',\n",
       "  'name': ' Pizzetta 211',\n",
       "  'url_links': 'https://www.yellowpages.com/san-francisco-ca/mip/pizzetta-211-13971117',\n",
       "  'address': '211 23rd Ave, San Francisco, CA 94121',\n",
       "  'geo_lat': 37.783706,\n",
       "  'geo_long': -122.482999,\n",
       "  'phone': 'Phone:  (415) 379-9880',\n",
       "  'website': 'Website: http://www.pizzetta211.com'},\n",
       " {'_id': ObjectId('640171e76332be63ff92f3d2'),\n",
       "  'sr_name': '9. Escape From New York Pizza',\n",
       "  'sr': '9',\n",
       "  'name': ' Escape From New York Pizza',\n",
       "  'url_links': 'https://www.yellowpages.com/san-francisco-ca/mip/escape-from-new-york-pizza-2104460',\n",
       "  'address': '1737 Haight St, San Francisco, CA 94117',\n",
       "  'geo_lat': 37.769323,\n",
       "  'geo_long': -122.451411,\n",
       "  'phone': 'Phone:  (415) 668-5577',\n",
       "  'website': 'Website: http://www.escapefromnewyorkpizza.com'},\n",
       " {'_id': ObjectId('640171e76332be63ff92f3d3'),\n",
       "  'sr_name': '10. Marjellos Pizza Marjellos Pizza',\n",
       "  'sr': '10',\n",
       "  'name': ' Marjellos Pizza Marjellos Pizza',\n",
       "  'url_links': 'https://www.yellowpages.com/san-francisco-ca/mip/marjellos-pizza-marjellos-pizza-30801595',\n",
       "  'address': '420 Saint Francis Blvd, San Francisco, CA 94127</p></section',\n",
       "  'geo_lat': 37.677846,\n",
       "  'geo_long': -122.479231,\n",
       "  'phone': 'Phone:  (415) 863-3988',\n",
       "  'website': 'NA'},\n",
       " {'_id': ObjectId('640171e76332be63ff92f3d4'),\n",
       "  'sr_name': '11. Extreme Pizza',\n",
       "  'sr': '11',\n",
       "  'name': ' Extreme Pizza',\n",
       "  'url_links': 'https://www.yellowpages.com/san-francisco-ca/mip/extreme-pizza-9683084',\n",
       "  'star_rating': 'five',\n",
       "  'num_reviews': '(1)',\n",
       "  'ta_rating': '{\"rating\":\"4.5\"',\n",
       "  'ta_rating_num': '\"count\":\"27\"}',\n",
       "  'dollar_signs': '$$',\n",
       "  'yrs_in_bussiness': '16',\n",
       "  'review': \"I order take out frequently & the food is always hot with FAST delivery (30-45 mins. usually). They don't skimp on toppings. Ordering online is…\",\n",
       "  'amenities': 'Amenities:Wheelchair accessibleHas WifiServes alcoholTakes reservations',\n",
       "  'address': '3911 Alemany Blvd, San Francisco, CA 94132',\n",
       "  'geo_lat': 37.711003,\n",
       "  'geo_long': -122.466807,\n",
       "  'phone': 'Phone:  (650) 992-9800',\n",
       "  'website': 'Website: http://www.bluelinepizza.com'},\n",
       " {'_id': ObjectId('640171e76332be63ff92f3d5'),\n",
       "  'sr_name': \"12. Capo's\",\n",
       "  'sr': '12',\n",
       "  'name': \" Capo's\",\n",
       "  'url_links': 'https://www.yellowpages.com/san-francisco-ca/mip/capos-470470915',\n",
       "  'address': '641 Vallejo St, San Francisco, CA 94133',\n",
       "  'geo_lat': 37.798437,\n",
       "  'geo_long': -122.408448,\n",
       "  'phone': 'Phone:  (415) 986-8998',\n",
       "  'website': 'Website: http://www.sfcapos.com'},\n",
       " {'_id': ObjectId('640171e76332be63ff92f3d6'),\n",
       "  'sr_name': '13. Little Caesars Pizza',\n",
       "  'sr': '13',\n",
       "  'name': ' Little Caesars Pizza',\n",
       "  'url_links': 'https://www.yellowpages.com/san-francisco-ca/mip/little-caesars-pizza-475585580',\n",
       "  'address': '955 Geneva Ave, San Francisco, CA 94112',\n",
       "  'geo_lat': 37.716107,\n",
       "  'geo_long': -122.439926,\n",
       "  'phone': 'Phone:  (415) 584-4000',\n",
       "  'website': 'Website: https://littlecaesars.com/en-us/store/8526'},\n",
       " {'_id': ObjectId('640171e76332be63ff92f3d7'),\n",
       "  'sr_name': '14. Carmel Pizza Company',\n",
       "  'sr': '14',\n",
       "  'name': ' Carmel Pizza Company',\n",
       "  'url_links': 'https://www.yellowpages.com/san-francisco-ca/mip/carmel-pizza-company-474740048',\n",
       "  'star_rating': 'five',\n",
       "  'num_reviews': '(1)',\n",
       "  'ta_rating': '{\"rating\":\"4.5\"',\n",
       "  'ta_rating_num': '\"count\":\"433\"}',\n",
       "  'dollar_signs': '$$',\n",
       "  'yrs_in_bussiness': '11',\n",
       "  'review': 'Rated The Number One Pizza Place In San Francisco, Ca',\n",
       "  'amenities': 'Amenities:Offers outdoor seatingWheelchair accessibleServes alcohol',\n",
       "  'address': '2826 Jones St, San Francisco, CA 94133',\n",
       "  'geo_lat': 37.778008,\n",
       "  'geo_long': -122.431272,\n",
       "  'phone': 'Phone:  (415) 676-1185',\n",
       "  'website': 'Website: http://www.carmelpizzaco.com'},\n",
       " {'_id': ObjectId('640171e76332be63ff92f3d8'),\n",
       "  'sr_name': '15. Extreme Pizza',\n",
       "  'sr': '15',\n",
       "  'name': ' Extreme Pizza',\n",
       "  'url_links': 'https://www.yellowpages.com/san-francisco-ca/mip/extreme-pizza-473618527',\n",
       "  'star_rating': 'five',\n",
       "  'num_reviews': '(1)',\n",
       "  'ta_rating': '{\"rating\":\"4.0\"',\n",
       "  'ta_rating_num': '\"count\":\"31\"}',\n",
       "  'dollar_signs': '$$$',\n",
       "  'yrs_in_bussiness': '29',\n",
       "  'review': 'Food is awesome and always well presented',\n",
       "  'amenities': 'Amenities:Wheelchair accessibleServes alcohol',\n",
       "  'address': '1052 Folsom St, San Francisco, CA 94103',\n",
       "  'geo_lat': 37.777636,\n",
       "  'geo_long': -122.406952,\n",
       "  'phone': 'Phone:  (415) 701-9000',\n",
       "  'website': 'Website: http://extremepizza.com'},\n",
       " {'_id': ObjectId('640171e76332be63ff92f3d9'),\n",
       "  'sr_name': '16. Extreme Pizza',\n",
       "  'sr': '16',\n",
       "  'name': ' Extreme Pizza',\n",
       "  'url_links': 'https://www.yellowpages.com/san-francisco-ca/mip/extreme-pizza-5655073',\n",
       "  'star_rating': 'three',\n",
       "  'num_reviews': '(1)',\n",
       "  'ta_rating': '{\"rating\":\"3.5\"',\n",
       "  'ta_rating_num': '\"count\":\"39\"}',\n",
       "  'dollar_signs': '$$',\n",
       "  'yrs_in_bussiness': '29',\n",
       "  'review': 'Garden pizza is my favorite!',\n",
       "  'amenities': 'Amenities:Offers outdoor seatingWheelchair accessibleGood for groupsServes alcoholGood for families',\n",
       "  'address': '1980 Union St, San Francisco, CA 94123',\n",
       "  'geo_lat': 37.797663,\n",
       "  'geo_long': -122.43191,\n",
       "  'phone': 'Phone:  (415) 929-8234',\n",
       "  'website': 'Website: http://www.extremepizza.com'},\n",
       " {'_id': ObjectId('640171e76332be63ff92f3da'),\n",
       "  'sr_name': '17. Papa Johns Pizza',\n",
       "  'sr': '17',\n",
       "  'name': ' Papa Johns Pizza',\n",
       "  'url_links': 'https://www.yellowpages.com/san-francisco-ca/mip/papa-johns-pizza-466234347',\n",
       "  'address': '69 Cambon Dr, San Francisco, CA 94132',\n",
       "  'geo_lat': 37.717691,\n",
       "  'geo_long': -122.473927,\n",
       "  'phone': 'Phone:  (415) 586-7272',\n",
       "  'website': 'Website: https://locations.papajohns.com/united-states/ca/94132/san-francisco/69-cambon-dr'},\n",
       " {'_id': ObjectId('640171e76332be63ff92f3db'),\n",
       "  'sr_name': \"18. Nizario's Pizza\",\n",
       "  'sr': '18',\n",
       "  'name': \" Nizario's Pizza\",\n",
       "  'url_links': 'https://www.yellowpages.com/san-francisco-ca/mip/nizarios-pizza-467085484',\n",
       "  'address': '279 Columbus Ave, San Francisco, CA 94133',\n",
       "  'geo_lat': 37.797708,\n",
       "  'geo_long': -122.40671,\n",
       "  'phone': 'Phone:  (415) 743-9999',\n",
       "  'website': 'Website: http://www.nizarios.com'},\n",
       " {'_id': ObjectId('640171e76332be63ff92f3dc'),\n",
       "  'sr_name': '19. Zero Zero',\n",
       "  'sr': '19',\n",
       "  'name': ' Zero Zero',\n",
       "  'url_links': 'https://www.yellowpages.com/san-francisco-ca/mip/zero-zero-515819319',\n",
       "  'address': '826 Folsom St, San Francisco, CA 94107',\n",
       "  'geo_lat': 37.781594,\n",
       "  'geo_long': -122.401995,\n",
       "  'phone': 'Phone:  (415) 348-8800',\n",
       "  'website': 'Website: http://www.zerozerosf.com'},\n",
       " {'_id': ObjectId('640171e76332be63ff92f3dd'),\n",
       "  'sr_name': '20. Arizmendi Bakery',\n",
       "  'sr': '20',\n",
       "  'name': ' Arizmendi Bakery',\n",
       "  'url_links': 'https://www.yellowpages.com/san-francisco-ca/mip/arizmendi-bakery-4340684',\n",
       "  'star_rating': 'five',\n",
       "  'num_reviews': '(3)',\n",
       "  'ta_rating': '{\"rating\":\"4.5\"',\n",
       "  'ta_rating_num': '\"count\":\"107\"}',\n",
       "  'dollar_signs': '$',\n",
       "  'yrs_in_bussiness': '26',\n",
       "  'review': 'This is an SF staple exemplifying all that SF loves. Worker-owned, boutique and DELICIOUS.Try their corn scone or their pizza bread. Very excited…',\n",
       "  'amenities': 'Amenities:Offers outdoor seatingGood for families',\n",
       "  'address': '1331 9th Ave, San Francisco, CA 94122',\n",
       "  'geo_lat': 37.763405,\n",
       "  'geo_long': -122.466421,\n",
       "  'phone': 'Phone:  (415) 566-3117',\n",
       "  'website': 'Website: http://www.arizmendibakery.com'},\n",
       " {'_id': ObjectId('640171e76332be63ff92f3de'),\n",
       "  'sr_name': '21. Round Table Pizza',\n",
       "  'sr': '21',\n",
       "  'name': ' Round Table Pizza',\n",
       "  'url_links': 'https://www.yellowpages.com/san-francisco-ca/mip/round-table-pizza-496244967',\n",
       "  'address': '2660 San Bruno Ave, San Francisco, CA 94134',\n",
       "  'geo_lat': 37.727937,\n",
       "  'geo_long': -122.404095,\n",
       "  'phone': 'Phone:  (415) 468-7100',\n",
       "  'website': 'Website: website'},\n",
       " {'_id': ObjectId('640171e76332be63ff92f3df'),\n",
       "  'sr_name': '22. Caffe Trieste',\n",
       "  'sr': '22',\n",
       "  'name': ' Caffe Trieste',\n",
       "  'url_links': 'https://www.yellowpages.com/san-francisco-ca/mip/caffe-trieste-458751557',\n",
       "  'star_rating': 'half',\n",
       "  'num_reviews': '(2)',\n",
       "  'ta_rating': '{\"rating\":\"4.0\"',\n",
       "  'ta_rating_num': '\"count\":\"340\"}',\n",
       "  'dollar_signs': '',\n",
       "  'yrs_in_bussiness': '58',\n",
       "  'review': 'How do I describe the perfect coffee experience? For me, it is when the coffee shop captures the right blend of coffee and provides the perfect…',\n",
       "  'amenities': 'Amenities:Offers outdoor seatingWheelchair accessibleHas Wifi',\n",
       "  'address': '609 Vallejo St, San Francisco, CA 94133',\n",
       "  'geo_lat': 37.798565,\n",
       "  'geo_long': -122.407348,\n",
       "  'phone': 'Phone:  (415) 982-2605',\n",
       "  'website': 'Website: http://www.caffetrieste.com'},\n",
       " {'_id': ObjectId('640171e76332be63ff92f3e0'),\n",
       "  'sr_name': \"23. Nizario's Pizza\",\n",
       "  'sr': '23',\n",
       "  'name': \" Nizario's Pizza\",\n",
       "  'url_links': 'https://www.yellowpages.com/san-francisco-ca/mip/nizarios-pizza-9195762',\n",
       "  'address': '4077 18th St, San Francisco, CA 94114',\n",
       "  'geo_lat': 37.760791,\n",
       "  'geo_long': -122.434486,\n",
       "  'phone': 'Phone:  (415) 487-0777',\n",
       "  'website': 'Website: http://www.nizarios.com'},\n",
       " {'_id': ObjectId('640171e76332be63ff92f3e1'),\n",
       "  'sr_name': '24. North Beach Pizza',\n",
       "  'sr': '24',\n",
       "  'name': ' North Beach Pizza',\n",
       "  'url_links': 'https://www.yellowpages.com/san-francisco-ca/mip/north-beach-pizza-16966782',\n",
       "  'address': '800 Stanyan St, San Francisco, CA 94117',\n",
       "  'geo_lat': 37.767226,\n",
       "  'geo_long': -122.452995,\n",
       "  'phone': 'Phone:  (415) 751-2300',\n",
       "  'website': 'Website: http://www.northbeachpizza.com'},\n",
       " {'_id': ObjectId('640171e76332be63ff92f3e2'),\n",
       "  'sr_name': '25. Pizza Orgasmica',\n",
       "  'sr': '25',\n",
       "  'name': ' Pizza Orgasmica',\n",
       "  'url_links': 'https://www.yellowpages.com/san-francisco-ca/mip/pizza-orgasmica-468392237',\n",
       "  'address': '3157 Fillmore St, San Francisco, CA 94123',\n",
       "  'geo_lat': 37.798726,\n",
       "  'geo_long': -122.436116,\n",
       "  'phone': 'Phone:  (415) 931-5300',\n",
       "  'website': 'Website: http://www.mypizzaorgasmica.com'},\n",
       " {'_id': ObjectId('640171e76332be63ff92f3e3'),\n",
       "  'sr_name': \"26. Domino's Pizza\",\n",
       "  'sr': '26',\n",
       "  'name': \" Domino's Pizza\",\n",
       "  'url_links': 'https://www.yellowpages.com/san-francisco-ca/mip/dominos-pizza-4150182',\n",
       "  'address': '3116 Noriega St, San Francisco, CA 94122',\n",
       "  'geo_lat': 37.75349,\n",
       "  'geo_long': -122.497158,\n",
       "  'phone': 'Phone:  (415) 681-8100',\n",
       "  'website': 'Website: http://www.dominos.com'},\n",
       " {'_id': ObjectId('640171e76332be63ff92f3e4'),\n",
       "  'sr_name': '27. Cable Car Pizza',\n",
       "  'sr': '27',\n",
       "  'name': ' Cable Car Pizza',\n",
       "  'url_links': 'https://www.yellowpages.com/san-francisco-ca/mip/cable-car-pizza-8964424',\n",
       "  'address': '535 Valencia St, San Francisco, CA 94110',\n",
       "  'geo_lat': 37.764328,\n",
       "  'geo_long': -122.421594,\n",
       "  'phone': 'Phone:  (415) 431-8800',\n",
       "  'website': 'Website: http://www.cablecarpizza.com'},\n",
       " {'_id': ObjectId('640171e76332be63ff92f3e5'),\n",
       "  'sr_name': '28. Pachino',\n",
       "  'sr': '28',\n",
       "  'name': ' Pachino',\n",
       "  'url_links': 'https://www.yellowpages.com/san-francisco-ca/mip/pachino-480196105',\n",
       "  'address': '318 Kearny St, San Francisco, CA 94108</p></section',\n",
       "  'geo_lat': 37.791178,\n",
       "  'geo_long': -122.403909,\n",
       "  'phone': 'Phone:  (415) 956-4056',\n",
       "  'website': 'NA'},\n",
       " {'_id': ObjectId('640171e76332be63ff92f3e6'),\n",
       "  'sr_name': '29. Firehouse Pizzeria',\n",
       "  'sr': '29',\n",
       "  'name': ' Firehouse Pizzeria',\n",
       "  'url_links': 'https://www.yellowpages.com/san-francisco-ca/mip/firehouse-pizzeria-480175297',\n",
       "  'address': '',\n",
       "  'geo_lat': 'NA',\n",
       "  'geo_long': 'NA',\n",
       "  'phone': 'NA',\n",
       "  'website': 'NA'},\n",
       " {'_id': ObjectId('640171e76332be63ff92f3e7'),\n",
       "  'sr_name': '30. Pizza Town San Francisco',\n",
       "  'sr': '30',\n",
       "  'name': ' Pizza Town San Francisco',\n",
       "  'url_links': 'https://www.yellowpages.com/san-francisco-ca/mip/pizza-town-san-francisco-9503925',\n",
       "  'address': '2164 Mission St, San Francisco, CA 94110</p></section',\n",
       "  'geo_lat': 6.086425,\n",
       "  'geo_long': -57.963026,\n",
       "  'phone': 'Phone:  (415) 551-2524',\n",
       "  'website': 'NA'}]"
      ]
     },
     "execution_count": 779,
     "metadata": {},
     "output_type": "execute_result"
    }
   ],
   "source": [
    "list(mycol_pizzas.find({}))"
   ]
  }
 ],
 "metadata": {
  "kernelspec": {
   "display_name": "Python 3 (ipykernel)",
   "language": "python",
   "name": "python3"
  },
  "language_info": {
   "codemirror_mode": {
    "name": "ipython",
    "version": 3
   },
   "file_extension": ".py",
   "mimetype": "text/x-python",
   "name": "python",
   "nbconvert_exporter": "python",
   "pygments_lexer": "ipython3",
   "version": "3.9.12"
  }
 },
 "nbformat": 4,
 "nbformat_minor": 5
}
